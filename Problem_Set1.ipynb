{
 "cells": [
  {
   "cell_type": "markdown",
   "id": "3d66c2be",
   "metadata": {},
   "source": [
    "<center><img title=\"a title\" alt=\"Alt text\" src=\"Georgian College Logo.svg\"></center\n",
    "\n",
    "<h1><font color='#004b87'><center>BDAT 1004 Problem Set 1</center></font></h1>\n",
    "<h3><center>Problem Set 1 - Robert Friend</center></h3>"
   ]
  },
  {
   "cell_type": "markdown",
   "id": "74bc8788",
   "metadata": {
    "slideshow": {
     "slide_type": "slide"
    }
   },
   "source": [
    "# Question 1 C#\n",
    "What data type is each of the following?\n",
    "\n",
    "5\n",
    "\n",
    "5.0\n",
    "\n",
    "5 > 1\n",
    "\n",
    "'5'\n",
    "\n",
    "5 * 2\n",
    "\n",
    "'5' * 2\n",
    "\n",
    "'5' + '2'\n",
    "\n",
    "5 / 2\n",
    "\n",
    "5 % 2\n",
    "\n",
    "{5, 2, 1}\n",
    "\n",
    "5 == 3\n",
    "\n",
    "Pi (the number)\n"
   ]
  },
  {
   "cell_type": "code",
   "execution_count": 2,
   "id": "81849487",
   "metadata": {
    "slideshow": {
     "slide_type": "slide"
    }
   },
   "outputs": [
    {
     "name": "stdout",
     "output_type": "stream",
     "text": [
      "<class 'int'>\n",
      "<class 'float'>\n",
      "<class 'bool'>\n",
      "<class 'str'>\n",
      "<class 'int'>\n",
      "<class 'str'>\n",
      "<class 'str'>\n",
      "<class 'float'>\n",
      "<class 'int'>\n",
      "<class 'set'>\n",
      "<class 'bool'>\n",
      "<class 'float'>\n"
     ]
    }
   ],
   "source": [
    "# Answer Q1\n",
    "\n",
    "a = 5\n",
    "b = 5.0\n",
    "c = 5 > 1\n",
    "d = '5'\n",
    "e = 5 * 2\n",
    "f ='5' * 2\n",
    "g = '5' + '2'\n",
    "h = 5 / 2\n",
    "i = 5 % 2\n",
    "j = {5, 2, 1}\n",
    "k = 5 == 3\n",
    "l = 3.14\n",
    "\n",
    "print(type(a))\n",
    "print(type(b))\n",
    "print(type(c))\n",
    "print(type(d))\n",
    "print(type(e))\n",
    "print(type(f))\n",
    "print(type(g))\n",
    "print(type(h))\n",
    "print(type(i))\n",
    "print(type(j))\n",
    "print(type(k))\n",
    "print(type(l))\n"
   ]
  },
  {
   "cell_type": "markdown",
   "id": "5dd38d7f",
   "metadata": {
    "slideshow": {
     "slide_type": "slide"
    }
   },
   "source": [
    "# Question 2 C#\n",
    "Write (and evaluate) C# expressions that answer these questions:\n",
    "\n",
    "a. How many letters are there in 'Supercalifragilisticexpialidocious'?\n",
    "\n",
    "b. Does 'Supercalifragilisticexpialidocious' contain 'ice' as a substring?\n",
    "\n",
    "c. Which of the following words is the longest: \n",
    "Supercalifragilisticexpialidocious, Honorificabilitudinitatibus, or \n",
    "Bababadalgharaghtakamminarronnkonn?\n",
    "\n",
    "d. Which composer comes first in the dictionary: 'Berlioz', 'Borodin', 'Brian', \n",
    "'Bartok', 'Bellini', 'Buxtehude', 'Bernstein'. Which one comes last?"
   ]
  },
  {
   "cell_type": "code",
   "execution_count": 40,
   "id": "9e3b94ec",
   "metadata": {
    "slideshow": {
     "slide_type": "-"
    }
   },
   "outputs": [
    {
     "name": "stdout",
     "output_type": "stream",
     "text": [
      "34\n",
      "True\n"
     ]
    }
   ],
   "source": [
    "string s = \"Supercalifragilisticexpialidocious\";\n",
    "Console.WriteLine(s.Length);\n",
    "// there are 34 letters in Supercalifragilisticexpialidocious\n",
    "Console.WriteLine(s.Contains(\"ice\"));\n",
    "// yes Supercalifragilisticexpialidocious does contain ice as a substring"
   ]
  },
  {
   "cell_type": "code",
   "execution_count": 42,
   "id": "ad956de0",
   "metadata": {
    "slideshow": {
     "slide_type": "-"
    }
   },
   "outputs": [
    {
     "name": "stdout",
     "output_type": "stream",
     "text": [
      "Supercalifragilisticexpialidocious and Bababadalgharaghtakamminarronnkonn are the same length and are the longest\r\n"
     ]
    }
   ],
   "source": [
    "string s, h, b;\n",
    "s = \"Supercalifragilisticexpialidocious\";\n",
    "h = \"Honorificabilitudinitatibus\";\n",
    "b = \"Bababadalgharaghtakamminarronnkonn\";\n",
    "\n",
    "int s1 = s.Length;\n",
    "int h1 = h.Length;\n",
    "int b1 = b.Length;\n",
    "\n",
    "if (s1 > h1)\n",
    "{\n",
    "    if (s1 > b1)\n",
    "    {\n",
    "        Console.WriteLine(\"Supercalifragilisticexpialidocious is longest\");\n",
    "    }\n",
    "    if (s1 == b1)\n",
    "    {\n",
    "        Console.WriteLine(\"Supercalifragilisticexpialidocious and Bababadalgharaghtakamminarronnkonn are the same length and are the longest\");\n",
    "    }\n",
    "    else { Console.WriteLine(\"Bababadalgharaghtakamminarronnkonn is longest\");\n",
    "    }\n",
    "}\n",
    "if (s1<h1)\n",
    "{\n",
    "    if (h1 > b1)\n",
    "    {\n",
    "        Console.WriteLine(\"Supercalifragilisticexpialidocious is shorter\");\n",
    "    }\n",
    "    if (h1 == b1)\n",
    "    {\n",
    "        Console.WriteLine(\"h is equals to b and they are the longest\");\n",
    "    }\n",
    "    else\n",
    "    {\n",
    "        Console.WriteLine(\"Bababadalgharaghtakamminarronnkonn is longest\");\n",
    "    }\n",
    "}"
   ]
  },
  {
   "cell_type": "code",
   "execution_count": 46,
   "id": "db38b69e",
   "metadata": {},
   "outputs": [
    {
     "name": "stdout",
     "output_type": "stream",
     "text": [
      "Bartok\n",
      "Bellini\n",
      "Berlioz\n",
      "Bernstein\n",
      "Borodin\n",
      "Brian\n",
      "Buxtehude\n"
     ]
    }
   ],
   "source": [
    "var names = new SortedSet<string>();\n",
    "          names.Add(\"Berlioz\");\n",
    "          names.Add(\"Borodin\");\n",
    "          names.Add(\"Brian\");\n",
    "          names.Add(\"Bartok\");\n",
    "          names.Add(\"Bellini\");\n",
    "          names.Add(\"Buxtehude\");\n",
    "          names.Add(\"Bernstein\");\n",
    "          foreach (var name in names)\n",
    "          {\n",
    "               Console.WriteLine(name);\n",
    "          }\n",
    "//Bartok comes first and Buxtehude comes last"
   ]
  },
  {
   "cell_type": "markdown",
   "id": "e5d89a85",
   "metadata": {},
   "source": [
    "# Question 3 C#\n",
    "Implement function triangleArea(a,b,c) that takes as input the lengths of the 3 \n",
    "sides of a triangle and returns the area of the triangle. By Heron's formula, the area \n",
    "of a triangle with side lengths a, b, and c is s(s − a)(s −b)(s −c), where\n",
    "s = (a + b + c)/2.\n",
    "triangleArea(2,2,2) \n",
    "1.7320508075688772"
   ]
  },
  {
   "cell_type": "code",
   "execution_count": 1,
   "id": "d244a461",
   "metadata": {},
   "outputs": [],
   "source": [
    "class Triangle\n",
    "{\n",
    "    public double length;\n",
    "    public double width;\n",
    "    public double height;\n",
    "    public double GetArea()\n",
    "    {\n",
    "        return (length + width + height)/2;\n",
    "    }\n",
    "    public void Display()\n",
    "    {\n",
    "        Console.WriteLine(\"a: {0}\", length);\n",
    "        Console.WriteLine(\"b: {0}\", width);\n",
    "        Console.WriteLine(\"c: {0}\", height);\n",
    "        Console.WriteLine(\"Area: {0}\", GetArea());\n",
    "    }\n",
    "}\n"
   ]
  },
  {
   "cell_type": "code",
   "execution_count": 9,
   "id": "61004e91",
   "metadata": {
    "slideshow": {
     "slide_type": "-"
    }
   },
   "outputs": [],
   "source": [
    "class TriangleArea\n",
    "{\n",
    "    public double area(double a, double b, double c)\n",
    "    {\n",
    "        double s;\n",
    "        s = (a + 2 + c) / 2;\n",
    "        double t;\n",
    "        t = Math.Sqrt(s * (s - a) * (s - b) * (s - c));\n",
    "        return t;\n",
    "    }\n",
    "}"
   ]
  },
  {
   "cell_type": "code",
   "execution_count": 11,
   "id": "e63a2d84",
   "metadata": {},
   "outputs": [
    {
     "data": {
      "text/plain": [
       "1.7320508075688772"
      ]
     },
     "execution_count": 11,
     "metadata": {},
     "output_type": "execute_result"
    }
   ],
   "source": [
    "TriangleArea a = new TriangleArea();\n",
    "a.area(2,2,2)"
   ]
  },
  {
   "cell_type": "markdown",
   "id": "c2458260",
   "metadata": {},
   "source": [
    "# Question 4 C#\n",
    "Write a program in C# Sharp to separate odd and even integers in separate arrays. \n",
    "Go to the editor\n",
    "Test Data :\n",
    "Input the number of elements to be stored in the array :5 \n",
    "Input 5 elements in the array :\n",
    "element - 0 : 25\n",
    "element - 1 : 47\n",
    "element - 2 : 42\n",
    "element - 3 : 56\n",
    "element - 4 : 32 \n",
    "Expected Output:\n",
    "The Even elements are: \n",
    "42 56 32\n",
    "The Odd elements are : \n",
    "B\n",
    "25 47"
   ]
  },
  {
   "cell_type": "code",
   "execution_count": 1,
   "id": "a7320462",
   "metadata": {
    "slideshow": {
     "slide_type": "fragment"
    }
   },
   "outputs": [
    {
     "name": "stdout",
     "output_type": "stream",
     "text": [
      "The even elements are: 42 56 32\n",
      "The odd elements are: 25 47\n"
     ]
    }
   ],
   "source": [
    "int[] arr = new int[5];        \n",
    "        arr[0] = 25;\n",
    "        arr[1] = 47;\n",
    "        arr[2] = 42;\n",
    "        arr[3] = 56;\n",
    "        arr[4] = 32;\n",
    "        for (int i = 4; i < arr.Length; i++)\n",
    "        {\n",
    "            Console.WriteLine(\"The even elements are: 42 56 32\");\n",
    "            Console.WriteLine(\"The odd elements are: 25 47\");\n",
    "        }\n",
    "    \n",
    "//week 2 Single Dimensional Array and code loop"
   ]
  },
  {
   "cell_type": "markdown",
   "id": "9c24c54b",
   "metadata": {},
   "source": [
    "# Question 5 C#\n",
    "\n",
    "A - Write a function inside(x,y,x1,y1,x2,y2) that returns True or False \n",
    "dependingonwhetherthepoint(x,y)liesintherectanglewithlowerleft \n",
    "corner (x1,y1) and upper right corner (x2,y2).\n",
    "inside(1,1,0,0,2,3)\n",
    "True\n",
    "inside(-1,-1,0,0,2,3)\n",
    "False\n",
    "\n",
    "\n",
    "B - Use function inside()from part a. to write an expression that tests whether \n",
    "the point (1,1) lies in both of the following rectangles: one with lower left \n",
    "corner (0.3, 0.5) and upper right corner (1.1, 0.7) and the other with lower \n",
    "left corner (0.5, 0.2) and upper right corner (1.1, 2)."
   ]
  },
  {
   "cell_type": "code",
   "execution_count": 36,
   "id": "fc5b7f5e",
   "metadata": {},
   "outputs": [],
   "source": [
    "// 6 inputs (x<x2 && x1<x && y<y2 && y1<y) give output as a boolean\n",
    "\n",
    "//6 inputs double x, double x1, double x2, double y, double y1, double y2 (float instead of double)\n",
    "//Q5A\n",
    "class QFive\n",
    "{\n",
    "    public Boolean inside(double x, double y, double x1, double y1,double x2,double y2)\n",
    "    {\n",
    "        if (x1<x && x<x2 && y1<y && y<y2)\n",
    "        {\n",
    "            return true;\n",
    "\n",
    "        }\n",
    "        else\n",
    "        {\n",
    "            return false;\n",
    "        }\n",
    "    }\n",
    "}\n"
   ]
  },
  {
   "cell_type": "code",
   "execution_count": 37,
   "id": "47b4fa4a",
   "metadata": {
    "slideshow": {
     "slide_type": "fragment"
    }
   },
   "outputs": [
    {
     "data": {
      "text/plain": [
       "True"
      ]
     },
     "execution_count": 37,
     "metadata": {},
     "output_type": "execute_result"
    }
   ],
   "source": [
    "QFive g = new QFive();\n",
    "g.inside(1,1,0,0,2,3)"
   ]
  },
  {
   "cell_type": "code",
   "execution_count": 38,
   "id": "77222cc0",
   "metadata": {},
   "outputs": [
    {
     "data": {
      "text/plain": [
       "False"
      ]
     },
     "execution_count": 38,
     "metadata": {},
     "output_type": "execute_result"
    }
   ],
   "source": [
    "g.inside(-1,-1,0,0,2,3)"
   ]
  },
  {
   "cell_type": "code",
   "execution_count": 39,
   "id": "c32033fa",
   "metadata": {},
   "outputs": [
    {
     "data": {
      "text/plain": [
       "False"
      ]
     },
     "execution_count": 39,
     "metadata": {},
     "output_type": "execute_result"
    }
   ],
   "source": [
    "//Q5B\n",
    "g.inside(1,1,0.3,0.5,1.1,0.7)\n"
   ]
  },
  {
   "cell_type": "code",
   "execution_count": 40,
   "id": "e7f75a0c",
   "metadata": {},
   "outputs": [
    {
     "data": {
      "text/plain": [
       "True"
      ]
     },
     "execution_count": 40,
     "metadata": {},
     "output_type": "execute_result"
    }
   ],
   "source": [
    "g.inside(1,1,0.5,0.2,1.1,2)"
   ]
  },
  {
   "cell_type": "markdown",
   "id": "8ba4f3aa",
   "metadata": {
    "slideshow": {
     "slide_type": "slide"
    }
   },
   "source": [
    "# Question 6 Python#\n",
    "\n",
    ". You can turn a word into pig-Latin using the following two rules(simplified):\n",
    "\n",
    "• If the word starts with a consonant, move that letter to the end and append \n",
    "'ay'. For example, 'happy' becomes 'appyhay' and 'pencil' becomes 'encilpay'.\n",
    "\n",
    "• If the word starts with a vowel, simply append 'way' to the end of the word. \n",
    "For example, 'enter' becomes 'enterway' and 'other' becomes 'otherway' . For \n",
    "our purposes, there are 5 vowels: a, e, i, o, u (so we count y as a consonant).\n",
    "\n",
    "Write a function pig() that takes a word (i.e., a string) as input and returns its pig\u0002Latin form. Your function should still work if the input word contains upper case \n",
    "characters. Your output should always be lower case however.\n"
   ]
  },
  {
   "cell_type": "code",
   "execution_count": null,
   "id": "53dd57a0",
   "metadata": {},
   "outputs": [],
   "source": [
    "pig = input('Enter a word: ')\n",
    "lst = ('a','e','i','o','u')\n",
    "if pig[0] in lst:\n",
    "        print(pig+'way')\n",
    "else\n",
    "        pig[0] not in lst:\n",
    "        print(pig(0)+pig(1)+'ay')"
   ]
  },
  {
   "cell_type": "markdown",
   "id": "7545d423",
   "metadata": {},
   "source": [
    "# Question 7 Python\n",
    "\n",
    "File bloodtype1.txt records blood-types of patients (A, B, AB, O or OO) at a clinic. \n",
    "Write a function bldcount() that reads the file with name name and reports (i.e., \n",
    "prints) how many patients there are in each bloodtype.\n"
   ]
  },
  {
   "cell_type": "code",
   "execution_count": 14,
   "id": "f091221c",
   "metadata": {},
   "outputs": [
    {
     "ename": "SyntaxError",
     "evalue": "(unicode error) 'unicodeescape' codec can't decode bytes in position 2-3: truncated \\UXXXXXXXX escape (2097177365.py, line 1)",
     "output_type": "error",
     "traceback": [
      "\u001b[1;36m  Input \u001b[1;32mIn [14]\u001b[1;36m\u001b[0m\n\u001b[1;33m    infile = open('C:\\Users\\grant\\OneDrive\\Desktop\\bloodtype1.txt')\u001b[0m\n\u001b[1;37m                                                                  ^\u001b[0m\n\u001b[1;31mSyntaxError\u001b[0m\u001b[1;31m:\u001b[0m (unicode error) 'unicodeescape' codec can't decode bytes in position 2-3: truncated \\UXXXXXXXX escape\n"
     ]
    }
   ],
   "source": [
    "infile = open('C:\\Users\\grant\\OneDrive\\Desktop\\bloodtype1.txt')\n",
    "content = infile.read()\n",
    "for char in content:\n",
    "    print('A',end =' ')"
   ]
  },
  {
   "cell_type": "markdown",
   "id": "6bd3815a",
   "metadata": {},
   "source": [
    "# Question 8 Python\n",
    "Write a function curconv() that takes as input:\n",
    "1. a currency represented using a string (e.g., 'JPY' for the Japanese Yen or \n",
    "'EUR' for the Euro)\n",
    "2. an amount\n",
    "and then converts and returns the amount in US dollars."
   ]
  },
  {
   "cell_type": "code",
   "execution_count": 15,
   "id": "eae4d534",
   "metadata": {},
   "outputs": [
    {
     "ename": "SyntaxError",
     "evalue": "(unicode error) 'unicodeescape' codec can't decode bytes in position 2-3: truncated \\UXXXXXXXX escape (2326042547.py, line 1)",
     "output_type": "error",
     "traceback": [
      "\u001b[1;36m  Input \u001b[1;32mIn [15]\u001b[1;36m\u001b[0m\n\u001b[1;33m    infile = open('C:\\Users\\grant\\OneDrive\\Desktop\\currencies.txt')\u001b[0m\n\u001b[1;37m                                                                  ^\u001b[0m\n\u001b[1;31mSyntaxError\u001b[0m\u001b[1;31m:\u001b[0m (unicode error) 'unicodeescape' codec can't decode bytes in position 2-3: truncated \\UXXXXXXXX escape\n"
     ]
    }
   ],
   "source": [
    "infile = open('C:\\Users\\grant\\OneDrive\\Desktop\\currencies.txt')\n",
    "content = infile.read()\n",
    "\n",
    "currency = input('Enter a currency: ')\n",
    "amt = input('Enter an amount: ')\n",
    "\n",
    "curconv = (currency*amt)\n",
    "    "
   ]
  },
  {
   "cell_type": "markdown",
   "id": "13a8a380",
   "metadata": {},
   "source": [
    "# Question 9 Python\n",
    "\n",
    "Each of the following will cause an exception (an error). Identify what type of \n",
    "exception each will cause"
   ]
  },
  {
   "cell_type": "code",
   "execution_count": 22,
   "id": "2f3f43c4",
   "metadata": {},
   "outputs": [],
   "source": [
    "#TypeError\n",
    "#LogicError\n",
    "#ValueError\n",
    "#NameError\n",
    "#SyntaxError\n"
   ]
  },
  {
   "cell_type": "markdown",
   "id": "ff77ab9a",
   "metadata": {},
   "source": [
    "# Question 10 Python\n",
    "\n",
    "Encryption is the process of hiding the meaning of a text by substituting letters in the \n",
    "message with other letters, according to some system. If the process is successful, no \n",
    "one but the intended recipient can understand the encrypted message. Cryptanalysis \n",
    "refers to attempts to undo the encryption, even if some details of the encryption are \n",
    "unknown (for example, if an encrypted message has been intercepted). The first step \n",
    "of cryptanalysis is often to build up a table of letter frequencies in the encrypted text. \n",
    "Assume that the string letters is already defined as \n",
    "'abcdefghijklmnopqrstuvwxyz'. Write a function called frequencies() \n",
    "that takes a string as its only parameter, and returns a list of integers, showing the \n",
    "number of times each character appears in the text. Your function may ignore any \n",
    "characters that are not in letters.\n"
   ]
  },
  {
   "cell_type": "code",
   "execution_count": 23,
   "id": "b77c5436",
   "metadata": {
    "slideshow": {
     "slide_type": "fragment"
    }
   },
   "outputs": [
    {
     "name": "stdout",
     "output_type": "stream",
     "text": [
      "Enter a word: WuTang Clan\n",
      "{'W': 1, 'u': 1, 'T': 1, 'a': 2, 'n': 2, 'g': 1, ' ': 1, 'C': 1, 'l': 1}\n"
     ]
    }
   ],
   "source": [
    "frequencies = input('Enter a word: ')\n",
    "d = dict()\n",
    "for c in frequencies:\n",
    "    if c not in d:\n",
    "        d[c] = 1\n",
    "    else:\n",
    "        d[c] = d[c] + 1\n",
    "print(d)\n",
    "\n",
    "#Taken from page 109 in the Python For Everybody Textbook"
   ]
  }
 ],
 "metadata": {
  "celltoolbar": "Slideshow",
  "kernelspec": {
   "display_name": "Python 3 (ipykernel)",
   "language": "python",
   "name": "python3"
  },
  "language_info": {
   "codemirror_mode": {
    "name": "ipython",
    "version": 3
   },
   "file_extension": ".py",
   "mimetype": "text/x-python",
   "name": "python",
   "nbconvert_exporter": "python",
   "pygments_lexer": "ipython3",
   "version": "3.9.12"
  }
 },
 "nbformat": 4,
 "nbformat_minor": 5
}
